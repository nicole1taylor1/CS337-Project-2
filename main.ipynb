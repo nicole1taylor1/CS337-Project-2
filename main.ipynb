{
 "cells": [
  {
   "cell_type": "code",
   "execution_count": 2,
   "metadata": {},
   "outputs": [],
   "source": [
    "from parser_1 import read_recipe_from_url"
   ]
  },
  {
   "cell_type": "code",
   "execution_count": 3,
   "metadata": {},
   "outputs": [],
   "source": [
    "soup = read_recipe_from_url(\"https://www.allrecipes.com/recipe/255365/edible-cookie-dough/\")"
   ]
  },
  {
   "cell_type": "code",
   "execution_count": 4,
   "metadata": {},
   "outputs": [
    {
     "name": "stdout",
     "output_type": "stream",
     "text": [
      "1 cup all-purpose flour\n",
      "¾ cup packed brown sugar\n",
      "½ cup butter\n",
      "1 teaspoon vanilla extract\n",
      "½ teaspoon salt\n",
      "2 tablespoons milk\n",
      "½ cup milk chocolate chips\n",
      "½ cup mini chocolate chips\n"
     ]
    }
   ],
   "source": [
    "ingredients = soup.find(\"div\", {\"id\":\"mntl-structured-ingredients_1-0\"})\n",
    "for child in ingredients.find_all(\"li\"):\n",
    "    text = child.text\n",
    "    text = text.replace(\"\\n\", \"\").strip()\n",
    "    print(text)\n",
    "    "
   ]
  }
 ],
 "metadata": {
  "kernelspec": {
   "display_name": "project2",
   "language": "python",
   "name": "python3"
  },
  "language_info": {
   "codemirror_mode": {
    "name": "ipython",
    "version": 3
   },
   "file_extension": ".py",
   "mimetype": "text/x-python",
   "name": "python",
   "nbconvert_exporter": "python",
   "pygments_lexer": "ipython3",
   "version": "3.11.5"
  }
 },
 "nbformat": 4,
 "nbformat_minor": 2
}
