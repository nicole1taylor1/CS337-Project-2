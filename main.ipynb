{
 "cells": [
  {
   "cell_type": "code",
   "execution_count": 1,
   "metadata": {},
   "outputs": [],
   "source": [
    "from bs4 import BeautifulSoup\n",
    "import requests\n",
    "import unicodedata\n",
    "from ourtypes.ingredient import Ingredient\n",
    "import foodlists\n",
    "import parser_1"
   ]
  },
  {
   "cell_type": "code",
   "execution_count": 2,
   "metadata": {},
   "outputs": [],
   "source": [
    "exitcode, soup = parser_1.read_recipe_from_url(\"https://www.allrecipes.com/recipe/255365/edible-cookie-dough/\")\n",
    "ingredients = parser_1.get_ingredients_from_soup(soup)"
   ]
  },
  {
   "cell_type": "code",
   "execution_count": 3,
   "metadata": {},
   "outputs": [
    {
     "ename": "AttributeError",
     "evalue": "'Ingredient' object has no attribute 'split'",
     "output_type": "error",
     "traceback": [
      "\u001b[0;31m---------------------------------------------------------------------------\u001b[0m",
      "\u001b[0;31mAttributeError\u001b[0m                            Traceback (most recent call last)",
      "\u001b[1;32m/Users/code/Documents/GitHub/CS337-Project-2/main.ipynb Cell 3\u001b[0m line \u001b[0;36m2\n\u001b[1;32m      <a href='vscode-notebook-cell:/Users/code/Documents/GitHub/CS337-Project-2/main.ipynb#X15sZmlsZQ%3D%3D?line=0'>1</a>\u001b[0m \u001b[39mfrom\u001b[39;00m \u001b[39mourtypes\u001b[39;00m\u001b[39m.\u001b[39;00m\u001b[39mrecipe\u001b[39;00m \u001b[39mimport\u001b[39;00m Recipe\n\u001b[0;32m----> <a href='vscode-notebook-cell:/Users/code/Documents/GitHub/CS337-Project-2/main.ipynb#X15sZmlsZQ%3D%3D?line=1'>2</a>\u001b[0m r \u001b[39m=\u001b[39m parser_1\u001b[39m.\u001b[39;49mmake_recipe(soup)\n\u001b[1;32m      <a href='vscode-notebook-cell:/Users/code/Documents/GitHub/CS337-Project-2/main.ipynb#X15sZmlsZQ%3D%3D?line=2'>3</a>\u001b[0m \u001b[39mfor\u001b[39;00m key \u001b[39min\u001b[39;00m r\u001b[39m.\u001b[39mnutritional_info\u001b[39m.\u001b[39mkeys():\n\u001b[1;32m      <a href='vscode-notebook-cell:/Users/code/Documents/GitHub/CS337-Project-2/main.ipynb#X15sZmlsZQ%3D%3D?line=3'>4</a>\u001b[0m     \u001b[39mprint\u001b[39m(key)\n",
      "File \u001b[0;32m~/Documents/GitHub/CS337-Project-2/parser_1.py:193\u001b[0m, in \u001b[0;36mmake_recipe\u001b[0;34m(soup)\u001b[0m\n\u001b[1;32m    191\u001b[0m recipe \u001b[39m=\u001b[39m Recipe(title, info\u001b[39m=\u001b[39mnutritional_info)\n\u001b[1;32m    192\u001b[0m recipe\u001b[39m.\u001b[39madd_ingredients(ingredients\u001b[39m=\u001b[39mingredients)\n\u001b[0;32m--> 193\u001b[0m steps \u001b[39m=\u001b[39m find_steps(soup, ingredient_objects\u001b[39m=\u001b[39;49mingredients)\n\u001b[1;32m    194\u001b[0m recipe\u001b[39m.\u001b[39madd_steps(steps\u001b[39m=\u001b[39msteps)\n\u001b[1;32m    195\u001b[0m \u001b[39mreturn\u001b[39;00m recipe\n",
      "File \u001b[0;32m~/Documents/GitHub/CS337-Project-2/create_steps.py:152\u001b[0m, in \u001b[0;36mfind_steps\u001b[0;34m(soup, ingredient_objects)\u001b[0m\n\u001b[1;32m    150\u001b[0m step_ingr \u001b[39m=\u001b[39m find_ingr(ingredient_objects)\n\u001b[1;32m    151\u001b[0m tools \u001b[39m=\u001b[39m find_tools(doc)\n\u001b[0;32m--> 152\u001b[0m tool_asc \u001b[39m=\u001b[39m find_tool_asc(tools, step_ingr, methods)\n\u001b[1;32m    153\u001b[0m method_asc \u001b[39m=\u001b[39m find_method_asc(tools, step_ingr, time, temp)\n\u001b[1;32m    155\u001b[0m \u001b[39m#create Step object\u001b[39;00m\n",
      "File \u001b[0;32m~/Documents/GitHub/CS337-Project-2/create_steps.py:134\u001b[0m, in \u001b[0;36mfind_steps.<locals>.find_tool_asc\u001b[0;34m(tools, step_ingr, methods)\u001b[0m\n\u001b[1;32m    132\u001b[0m associated_ingredients \u001b[39m=\u001b[39m []\n\u001b[1;32m    133\u001b[0m \u001b[39mfor\u001b[39;00m ingred \u001b[39min\u001b[39;00m step_ingr:\n\u001b[0;32m--> 134\u001b[0m     words \u001b[39m=\u001b[39m ingred\u001b[39m.\u001b[39;49msplit()\n\u001b[1;32m    135\u001b[0m     \u001b[39mfor\u001b[39;00m word \u001b[39min\u001b[39;00m words:\n\u001b[1;32m    136\u001b[0m         \u001b[39mif\u001b[39;00m word \u001b[39min\u001b[39;00m sent\u001b[39m.\u001b[39mtext:\n",
      "\u001b[0;31mAttributeError\u001b[0m: 'Ingredient' object has no attribute 'split'"
     ]
    }
   ],
   "source": [
    "from ourtypes.recipe import Recipe\n",
    "r = parser_1.make_recipe(soup)\n",
    "for key in r.nutritional_info.keys():\n",
    "    print(key)\n"
   ]
  },
  {
   "cell_type": "code",
   "execution_count": null,
   "metadata": {},
   "outputs": [],
   "source": [
    "import ourtypes.step\n",
    "from ourtypes.recipe import Recipe\n",
    "r = parser_1.make_recipe(soup)"
   ]
  }
 ],
 "metadata": {
  "kernelspec": {
   "display_name": "project2",
   "language": "python",
   "name": "python3"
  },
  "language_info": {
   "codemirror_mode": {
    "name": "ipython",
    "version": 3
   },
   "file_extension": ".py",
   "mimetype": "text/x-python",
   "name": "python",
   "nbconvert_exporter": "python",
   "pygments_lexer": "ipython3",
   "version": "3.11.5"
  }
 },
 "nbformat": 4,
 "nbformat_minor": 2
}
