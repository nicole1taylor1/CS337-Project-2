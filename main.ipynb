{
 "cells": [
  {
   "cell_type": "code",
   "execution_count": 2,
   "metadata": {},
   "outputs": [],
   "source": [
    "from parser_1 import read_recipe_from_url\n",
    "import re\n",
    "import sys\n",
    "import os\n",
    "import spacy\n",
    "\n",
    "nlp = spacy.load(\"en_core_web_lg\")\n",
    "\n",
    "folder_path = os.path.join(os.getcwd(), 'ourtypes')\n",
    "sys.path.append(folder_path)\n",
    "\n",
    "from step import Step, Steps\n",
    "from ingredient import Ingredient"
   ]
  },
  {
   "cell_type": "code",
   "execution_count": 3,
   "metadata": {},
   "outputs": [],
   "source": [
    "soup = read_recipe_from_url(\"https://www.allrecipes.com/pasta-e-ceci-italian-chickpea-and-pasta-stew-recipe-8400705\")"
   ]
  },
  {
   "cell_type": "code",
   "execution_count": 4,
   "metadata": {},
   "outputs": [
    {
     "name": "stdout",
     "output_type": "stream",
     "text": [
      "1 cup dry chickpeas\n",
      "1 tablespoon baking soda\n",
      "1 yellow onion\n",
      "1 stalk celery\n",
      "1 small zucchini\n",
      "1 carrot\n",
      "2 tablespoons olive oil\n",
      "1 sprig fresh sage leaves\n",
      "1 sprig fresh rosemary\n",
      "1 sprig fresh thyme\n",
      "3 cups chicken broth, or more as needed\n",
      "2 peeled whole canned tomatoes\n",
      "8 1/2 ounces ditalini pasta, such as Barilla® Gluten Free Ditalini\n",
      "salt and freshly ground black pepper to taste\n",
      "1 fresh cayenne pepper, seeded and minced, or more to taste\n",
      "1 tablespoon extra virgin olive oil\n"
     ]
    }
   ],
   "source": [
    "ingredients = soup.find(\"div\", {\"id\":\"mntl-structured-ingredients_1-0\"})\n",
    "for child in ingredients.find_all(\"li\"):\n",
    "    text = child.text\n",
    "    text = text.replace(\"\\n\", \"\").strip()\n",
    "    print(text)\n",
    "    "
   ]
  },
  {
   "cell_type": "code",
   "execution_count": 11,
   "metadata": {},
   "outputs": [
    {
     "name": "stdout",
     "output_type": "stream",
     "text": [
      "['8 hours']\n",
      "[]\n",
      "[]\n",
      "['1 minute', '5 minutes']\n",
      "['1 hour']\n",
      "['8 to 10 minutes']\n",
      "Step 1: Step(Ingredients: ['dry chickpeas', 'baking soda', 'freshly ground black pepper to taste'], Tools: ['a large stew pot'], Methods: ['rinse', 'pick', 'rub', 'cover', 'add', 'leave'], Time: ['8 hours'], Temp: None, Description: 'Rinse chickpeas under cool water. Pick up handfuls of chickpeas and rub them together with your hands under the water to wash chickpeas. Place chickpeas in a large stew pot, cover with water and add baking soda; swirl chickpeas and water to distribute baking soda. Leave to soak for 8 hours or overnight.')\n",
      "Step 2: Step(Ingredients: ['dry chickpeas'], Tools: ['a strainer'], Methods: ['pour', 'rinse', 'eliminate', 'set'], Time: [], Temp: None, Description: 'The next day, pour chickpeas through a strainer and rinse well under cold running water, eliminating any skins or discolored chickpeas; set aside.')\n",
      "Step 3: Step(Ingredients: ['onion', 'celery', 'zucchini'], Tools: ['a cheese grater', 'a different flavor'], Methods: [], Time: [], Temp: None, Description: 'Grate onion, celery, zucchini, and carrot on the large teeth of a cheese grater, This step is very important as grated vegetables give a different flavor than diced.')\n",
      "Step 4: Step(Ingredients: ['onion', 'olive oil', 'fresh sage leaves', 'fresh rosemary', 'fresh thyme', 'extra virgin olive oil'], Tools: [], Methods: ['mix', 'stir'], Time: ['1 minute', '5 minutes'], Temp: None, Description: 'Heat 2 tablespoons olive oil in the stew pot over medium heat, and sauté grated vegetables for 1 minute. Mix in sage, rosemary, and thyme and sauté, stirring occasionally, until onions are soft and translucent, about 5 minutes.')\n",
      "Step 5: Step(Ingredients: ['dry chickpeas', 'olive oil', 'chicken broth', 'whole canned tomatoes', 'ounces ditalini pasta', 'freshly ground black pepper to taste', 'extra virgin olive oil'], Tools: ['a boil', 'a thick, stew-like consistency'], Methods: ['add', 'bring', 'reduce', 'stir', 'add'], Time: ['1 hour'], Temp: None, Description: 'Add 3 cups broth, all the chickpeas, and tomatoes. Bring to a boil, reduce heat, and simmer until chickpeas are tender, about 1 hour. Stir in pasta. Add more broth only as needed to achieve a thick, stew-like consistency.')\n",
      "Step 6: Step(Ingredients: ['olive oil', 'ounces ditalini pasta', 'freshly ground black pepper to taste', 'cayenne pepper', 'extra virgin olive oil'], Tools: ['a bite', 'a drizzle'], Methods: ['remove', 'divide'], Time: ['8 to 10 minutes'], Temp: None, Description: 'Cook until pasta is tender with a bite, 8 to 10 minutes. Taste and season with salt and black pepper. Remove from heat and divide amongst serving bowls. Top each bowl with minced cayenne pepper and a drizzle of extra-virgin olive oil.')\n"
     ]
    }
   ],
   "source": [
    "ingredient_objects = {}\n",
    "for child in ingredients.find_all(\"li\"):\n",
    "    text = \" \".join(child.text.replace(\"\\n\", \"\").split()[2:]).split(\",\")[0]\n",
    "    ingredient_objects[text] = text\n",
    "\n",
    "steps = soup.find(\"div\", {\"id\":\"recipe__steps-content_1-0\"})\n",
    "steps_collection = Steps()\n",
    "\n",
    "for child in steps.find_all(\"p\"):\n",
    "    step_text = child.text.replace(\"\\n\", \"\").strip()\n",
    "    \n",
    "    #find the time mentioned for in the step\n",
    "    time_match = re.findall(r'(\\d+\\s+to\\s+\\d+|\\d+)\\s*(hours?|hrs?|minutes?|mins?|seconds?|secs?)(\\s+and\\s+\\d+\\s*(hours?|hrs?|minutes?|mins?|seconds?|secs?))?', step_text)\n",
    "    time = []\n",
    "    if time_match:\n",
    "        for t in time_match:\n",
    "            time.append(' '.join(filter(None, t)))\n",
    "    print(time)\n",
    "    #find the temperature for that step\n",
    "    temp_match = re.search(r'(\\d+ degrees)', step_text)\n",
    "    if temp_match:\n",
    "        temp = temp_match.group(1) \n",
    "    else:\n",
    "        temp = None\n",
    "    \n",
    "    doc = nlp(step_text)\n",
    "    tools = []\n",
    "    methods = []\n",
    "\n",
    "    for sent in doc.sents:\n",
    "        for token in sent:\n",
    "            #check if token is a verb\n",
    "            if token.pos_ == 'VERB':\n",
    "                #check if it's the first token in a sentence \n",
    "                if token.i == sent.start:\n",
    "                    methods.append(token.lemma_)\n",
    "            \n",
    "                #check if itcomes after punctuation or 'and'\n",
    "                else:\n",
    "                    prev_token = token.nbor(-1)\n",
    "                    if prev_token.is_punct or (prev_token.text.lower() == 'and'):\n",
    "                        methods.append(token.lemma_)\n",
    "\n",
    "    #extract compound nouns for full tool names\n",
    "    for chunk in doc.noun_chunks:\n",
    "        tokens = chunk.text.split()\n",
    "        if len(tokens) > 1 and tokens[0].lower() in ['a', 'an']:\n",
    "            #check if the last word is a noun\n",
    "            if nlp(chunk.text)[-1].pos_ == 'NOUN':\n",
    "                tools.append(chunk.text)\n",
    "        elif chunk.root.dep_ in ['dobj', 'pobj']:  #direct object or object of preposition\n",
    "            #check if the current chunk is a compound noun\n",
    "            if any(child.dep_ == 'compound' for child in chunk.root.children):\n",
    "                tools.append(chunk.text)\n",
    "            elif chunk.root.pos_ == 'NOUN':\n",
    "                tools.append(chunk.text)\n",
    "    #identify ingredients present in this step\n",
    "    step_ingredients = []\n",
    "    for ingred in ingredient_objects:\n",
    "        words = ingred.split()\n",
    "        for word in words:\n",
    "            if word in step_text:\n",
    "                step_ingredients.append(ingred)\n",
    "                break\n",
    "\n",
    "    #remove tools are ingredients, do not end in a noun and do not start with \"a\" or \"an\":\n",
    "    # tools = [tool for tool in tools if all(ingr not in tool for ingr in ingredient_objects)]\n",
    "    tools = [tool for tool in tools if nlp(tool)[-1].pos_ == 'NOUN' and tool.split()[0] in [\"a\", \"an\"]]\n",
    "    \n",
    "    #create Step object\n",
    "    step_obj = Step(step_ingredients, tools=tools, methods=methods, description=step_text, time=time, temp=temp)\n",
    "\n",
    "    #add Step object to Steps collection\n",
    "    steps_collection.add_step(step_obj)\n",
    "\n",
    "print(steps_collection)"
   ]
  }
 ],
 "metadata": {
  "kernelspec": {
   "display_name": "project2",
   "language": "python",
   "name": "python3"
  },
  "language_info": {
   "codemirror_mode": {
    "name": "ipython",
    "version": 3
   },
   "file_extension": ".py",
   "mimetype": "text/x-python",
   "name": "python",
   "nbconvert_exporter": "python",
   "pygments_lexer": "ipython3",
   "version": "3.12.0"
  }
 },
 "nbformat": 4,
 "nbformat_minor": 2
}
