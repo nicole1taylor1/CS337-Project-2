{
 "cells": [
  {
   "cell_type": "code",
   "execution_count": 1,
   "metadata": {},
   "outputs": [],
   "source": [
    "from bs4 import BeautifulSoup\n",
    "import requests\n",
    "import unicodedata\n",
    "from ourtypes.ingredient import Ingredient\n",
    "import foodlists"
   ]
  },
  {
   "cell_type": "code",
   "execution_count": 2,
   "metadata": {},
   "outputs": [],
   "source": [
    "def read_recipe_from_url(url):\n",
    "    \"\"\"Will read a recipe from url using requests\n",
    "    returns bs4 soup object\n",
    "    \"\"\"\n",
    "\n",
    "    r = requests.get(url)\n",
    "    soup = BeautifulSoup(r.text, \"html.parser\")\n",
    "    return soup"
   ]
  },
  {
   "cell_type": "code",
   "execution_count": 3,
   "metadata": {},
   "outputs": [],
   "source": [
    "def PluralUnit(word):\n",
    "    if word[-1] == \"s\":\n",
    "        return True, word[:-1], \"s\"\n",
    "    return False, word, \"\""
   ]
  },
  {
   "cell_type": "code",
   "execution_count": 4,
   "metadata": {},
   "outputs": [],
   "source": [
    "def check_preparation_and_description(text):\n",
    "    descriptors = []\n",
    "    preps = []\n",
    "    for word in text:\n",
    "        if word in foodlists.preparations:\n",
    "            preps.append(word)\n",
    "        elif word in foodlists.descriptions:\n",
    "            descriptors.append(word)\n",
    "    return descriptors, preps"
   ]
  },
  {
   "cell_type": "code",
   "execution_count": 5,
   "metadata": {},
   "outputs": [],
   "source": [
    "def parse_ingredient_name(text):\n",
    "    tags = []\n",
    "    unit_qualifier, name = \"\", text\n",
    "    \n",
    "    if ',' in text:\n",
    "        unit_qualifier = text[text.find(','):]\n",
    "        name = text[:text.find(',')]\n",
    "\n",
    "    #check ingredients for helpful tagging\n",
    "    for k in foodlists.allIngredients.keys():\n",
    "        vals = foodlists.allIngredients[k]\n",
    "        for val in vals:\n",
    "            if val in text:\n",
    "                tags.append(k)\n",
    "                break\n",
    "\n",
    "    if unit_qualifier != \"\" and unit_qualifier in foodlists.unit_qualifiers:\n",
    "        return unit_qualifier, tags, name\n",
    "    else:\n",
    "        return None, tags, name"
   ]
  },
  {
   "cell_type": "code",
   "execution_count": 6,
   "metadata": {},
   "outputs": [],
   "source": [
    "def get_ingredients_from_soup(soup):\n",
    "    ingredientsList = []\n",
    "    ingredients = soup.find(\"div\", {\"id\":\"mntl-structured-ingredients_1-0\"})\n",
    "    for child in ingredients.find_all(\"li\"):\n",
    "        text = child.text.replace(\"\\n\", \"\").strip()\n",
    "        text = text.split(\" \")\n",
    "        \n",
    "        #get QUANTITY\n",
    "        quantity_unicode = text[0]\n",
    "        quantity = unicodedata.numeric(text[0]) #quantity = chars before first space\n",
    "\n",
    "        #get UNIT\n",
    "        unit = \"\"\n",
    "        posn = 1\n",
    "        potential_unit = text[1].replace(\".\",\"\")\n",
    "        #lowercase unless one char\n",
    "        if len(potential_unit) > 1:\n",
    "            potential_unit = potential_unit.lower()\n",
    "        #handle occurence of fluid/fl before unit name\n",
    "        if potential_unit == \"fluid\" or potential_unit == \"fl\":\n",
    "            unit += \"fluid\"\n",
    "            potential_unit = text[2].lower().replace(\".\",\"\")\n",
    "            posn += 1\n",
    "        #check for units\n",
    "        for key in foodlists.units.keys():\n",
    "            plural, potential_unit, end = PluralUnit(potential_unit)\n",
    "            if potential_unit == key:\n",
    "                unit += potential_unit + end\n",
    "            elif potential_unit in foodlists.units[key]:\n",
    "                unit += key + end\n",
    "        if unit == \"\":\n",
    "            unit=None\n",
    "\n",
    "        #get INGREDIENT NAME\n",
    "        #check for plurals\n",
    "        #just for now\n",
    "        posn += 1 \n",
    "        name = text[posn:]\n",
    "        map(lambda x: x.lower(), name)\n",
    "\n",
    "        #get DESCRIPTION\n",
    "        descriptors, preparation = check_preparation_and_description(name)\n",
    "        for ele in descriptors:\n",
    "            name.remove(ele)           \n",
    "\n",
    "        #get PREPARATION\n",
    "        for ele in preparation:\n",
    "            name.remove(ele)\n",
    "\n",
    "        name = \" \".join(name)\n",
    "        unit_qualifier, tags, name = parse_ingredient_name(name)\n",
    "\n",
    "        ingredient = Ingredient(ingredient_name=str(name), quantity=float(quantity), quantity_unicode=quantity_unicode, \n",
    "                                unit=unit, descriptor=descriptors, preparation=preparation,\n",
    "                                unit_qualifier=unit_qualifier, tags=tags)\n",
    "        ingredientsList.append(ingredient)\n",
    "    return ingredientsList\n"
   ]
  },
  {
   "cell_type": "code",
   "execution_count": 8,
   "metadata": {},
   "outputs": [
    {
     "name": "stdout",
     "output_type": "stream",
     "text": [
      "1 cup of all-purpose flour\n",
      "\n",
      "['bakingIngredients']\n",
      "\n",
      "\n",
      "\n",
      "¾ cups of packed brown sugar\n",
      "\n",
      "['sugars']\n",
      "\n",
      "\n",
      "\n",
      "½ cups of butter\n",
      "\n",
      "['cookingFats']\n",
      "\n",
      "\n",
      "\n",
      "1 teaspoon of vanilla extract\n",
      "\n",
      "['spices', 'flavorings']\n",
      "\n",
      "\n",
      "\n",
      "½ teaspoons of salt\n",
      "\n",
      "['spices']\n",
      "\n",
      "\n",
      "\n",
      "2 tablespoons of milk\n",
      "\n",
      "['dairyIngredients']\n",
      "\n",
      "\n",
      "\n",
      "½ cups of milk chocolate chips\n",
      "\n",
      "['dairyIngredients', 'spices', 'extras']\n",
      "\n",
      "\n",
      "\n",
      "½ cups of mini chocolate chips\n",
      "\n",
      "['spices', 'extras']\n",
      "\n",
      "\n",
      "\n"
     ]
    }
   ],
   "source": [
    "#run program\n",
    "soup = read_recipe_from_url(\"https://www.allrecipes.com/recipe/255365/edible-cookie-dough/\")\n",
    "ingredients = get_ingredients_from_soup(soup)\n",
    "for i in ingredients:\n",
    "    print(i)\n",
    "    print(i.tags)\n",
    "    print(\"\\n\\n\")"
   ]
  },
  {
   "cell_type": "markdown",
   "metadata": {},
   "source": [
    "Testing out question handling"
   ]
  },
  {
   "cell_type": "code",
   "execution_count": null,
   "metadata": {},
   "outputs": [],
   "source": [
    "input = \"Please show me a list of ingredients\""
   ]
  },
  {
   "cell_type": "code",
   "execution_count": null,
   "metadata": {},
   "outputs": [],
   "source": []
  }
 ],
 "metadata": {
  "kernelspec": {
   "display_name": "project2",
   "language": "python",
   "name": "python3"
  },
  "language_info": {
   "codemirror_mode": {
    "name": "ipython",
    "version": 3
   },
   "file_extension": ".py",
   "mimetype": "text/x-python",
   "name": "python",
   "nbconvert_exporter": "python",
   "pygments_lexer": "ipython3",
   "version": "3.11.5"
  }
 },
 "nbformat": 4,
 "nbformat_minor": 2
}
