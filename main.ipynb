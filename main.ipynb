{
 "cells": [
  {
   "cell_type": "code",
   "execution_count": 5,
   "metadata": {},
   "outputs": [],
   "source": [
    "from parser_1 import read_recipe_from_url\n",
    "import re\n",
    "import unicodedata"
   ]
  },
  {
   "cell_type": "code",
   "execution_count": 6,
   "metadata": {},
   "outputs": [],
   "source": [
    "\n",
    "title = u\"¾ cup packed brown sugar\"\n",
    "\n"
   ]
  },
  {
   "cell_type": "code",
   "execution_count": 7,
   "metadata": {},
   "outputs": [],
   "source": [
    "soup = read_recipe_from_url(\"https://www.allrecipes.com/recipe/255365/edible-cookie-dough/\")"
   ]
  },
  {
   "cell_type": "code",
   "execution_count": 16,
   "metadata": {},
   "outputs": [
    {
     "data": {
      "text/plain": [
       "0.75"
      ]
     },
     "execution_count": 16,
     "metadata": {},
     "output_type": "execute_result"
    }
   ],
   "source": [
    "unicodedata.numeric(\"¾\")"
   ]
  },
  {
   "cell_type": "code",
   "execution_count": 29,
   "metadata": {},
   "outputs": [],
   "source": [
    "units = {\"teaspoon\": [\"t\", \"tsp\"],\n",
    "\"tablespoon\": [\"T\", \"tbl\", \"tbs\", \"tbsp\"],\n",
    "\"ounce\": [\"oz\", \"ozs\", \"ounce\"], \n",
    "\"cup\":[\"c\", \"C\"],\n",
    "\"pint\": [\"p\", \"P\", \"pt\"], \n",
    "\"quart\": [\"q\", \"Q\", \"qt\"],\n",
    "\"gallon\": [\"g\", \"G\", \"gal\"]}"
   ]
  },
  {
   "cell_type": "code",
   "execution_count": 30,
   "metadata": {},
   "outputs": [],
   "source": [
    "def PluralUnit(word):\n",
    "    if word[-1] == \"s\":\n",
    "        return True, word[:-1]\n",
    "    return False, word"
   ]
  },
  {
   "cell_type": "code",
   "execution_count": 32,
   "metadata": {},
   "outputs": [
    {
     "name": "stdout",
     "output_type": "stream",
     "text": [
      "['1', 'cup', 'all-purpose', 'flour']\n",
      "['¾', 'cup', 'packed', 'brown', 'sugar']\n",
      "['½', 'cup', 'butter']\n",
      "['1', 'teaspoon', 'vanilla', 'extract']\n",
      "['½', 'teaspoon', 'salt']\n",
      "['2', 'tablespoons', 'milk']\n",
      "['½', 'cup', 'milk', 'chocolate', 'chips']\n",
      "['½', 'cup', 'mini', 'chocolate', 'chips']\n"
     ]
    }
   ],
   "source": [
    "\n",
    "ingredients = soup.find(\"div\", {\"id\":\"mntl-structured-ingredients_1-0\"})\n",
    "for child in ingredients.find_all(\"li\"):\n",
    "    text = child.text.replace(\"\\n\", \"\").strip()\n",
    "    text = text.split(\" \")\n",
    "\n",
    "    #get QUANTITY\n",
    "    quantity = unicodedata.numeric(text[0]) #quantity = chars before first space\n",
    "\n",
    "    #get UNIT\n",
    "    unit = \"\"\n",
    "    potential_unit = text[1].replace(\".\",\"\")\n",
    "    #lowercase unless one char\n",
    "    if len(potential_unit) > 1:\n",
    "        potential_unit = potential_unit.lower()\n",
    "    #handle occurence of fluid/fl before unit name\n",
    "    if potential_unit == \"fluid\" or potential_unit == \"fl\":\n",
    "        unit += \"fluid\"\n",
    "        potential_unit = text[2].lower().replace(\".\",\"\")\n",
    "    #check for units\n",
    "    for key in units.keys():\n",
    "        plural, potential_unit = PluralUnit(potential_unit)\n",
    "        if potential_unit == key:\n",
    "            unit += potential_unit\n",
    "            if plural:\n",
    "                unit +=\"s\"\n",
    "        elif potential_unit in units[key]:\n",
    "            unit += potential_unit\n",
    "            if plural:\n",
    "                unit +=\"s\"\n",
    "    if unit == \"\":\n",
    "        unit=None\n",
    "    print(text)\n",
    "\n",
    "    #get INGREDIENT NAME\n",
    "    #check for plurals\n",
    "\n"
   ]
  },
  {
   "cell_type": "code",
   "execution_count": null,
   "metadata": {},
   "outputs": [],
   "source": []
  }
 ],
 "metadata": {
  "kernelspec": {
   "display_name": "project2",
   "language": "python",
   "name": "python3"
  },
  "language_info": {
   "codemirror_mode": {
    "name": "ipython",
    "version": 3
   },
   "file_extension": ".py",
   "mimetype": "text/x-python",
   "name": "python",
   "nbconvert_exporter": "python",
   "pygments_lexer": "ipython3",
   "version": "3.11.5"
  }
 },
 "nbformat": 4,
 "nbformat_minor": 2
}
