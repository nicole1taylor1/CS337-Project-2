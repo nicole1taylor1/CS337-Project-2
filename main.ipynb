{
 "cells": [
  {
   "cell_type": "code",
   "execution_count": 6,
   "metadata": {},
   "outputs": [],
   "source": [
    "from parser_1 import read_recipe_from_url\n",
    "import re\n",
    "import sys\n",
    "import os\n",
    "import spacy\n",
    "\n",
    "nlp = spacy.load(\"en_core_web_lg\")\n",
    "\n",
    "folder_path = os.path.join(os.getcwd(), 'ourtypes')\n",
    "sys.path.append(folder_path)\n",
    "\n",
    "from step import Step, Steps\n",
    "from ingredient import Ingredient"
   ]
  },
  {
   "cell_type": "code",
   "execution_count": 7,
   "metadata": {},
   "outputs": [],
   "source": [
    "soup = read_recipe_from_url(\"https://www.allrecipes.com/recipe/255365/edible-cookie-dough/\")"
   ]
  },
  {
   "cell_type": "code",
   "execution_count": 8,
   "metadata": {},
   "outputs": [
    {
     "name": "stdout",
     "output_type": "stream",
     "text": [
      "1 cup all-purpose flour\n",
      "¾ cup packed brown sugar\n",
      "½ cup butter\n",
      "1 teaspoon vanilla extract\n",
      "½ teaspoon salt\n",
      "2 tablespoons milk\n",
      "½ cup milk chocolate chips\n",
      "½ cup mini chocolate chips\n"
     ]
    }
   ],
   "source": [
    "ingredients = soup.find(\"div\", {\"id\":\"mntl-structured-ingredients_1-0\"})\n",
    "for child in ingredients.find_all(\"li\"):\n",
    "    text = child.text\n",
    "    text = text.replace(\"\\n\", \"\").strip()\n",
    "    print(text)\n",
    "    "
   ]
  },
  {
   "cell_type": "code",
   "execution_count": 12,
   "metadata": {},
   "outputs": [
    {
     "name": "stdout",
     "output_type": "stream",
     "text": [
      "Step 1: Step(Ingredients: ['all-purpose flour'], Tools: ['a microwave-safe dish'], Methods: ['treat', 'cook', 'stir', 'set'], Time: 1 minute and 15 seconds, Temp: None, Description: 'To heat-treat your flour so it is safe to use: Place flour in a microwave-safe dish and cook for 1 minute and 15 seconds, stirring it every 15 seconds. Set aside.')\n",
      "Step 2: Step(Ingredients: ['all-purpose flour', 'packed brown sugar', 'butter', 'vanilla extract', 'salt', 'milk', 'milk chocolate chips', 'mini chocolate chips'], Tools: ['an electric mixer', 'a large bowl', 'a crumbly dough forms'], Methods: ['Beat', 'Beat', 'add', 'treat', 'mix', 'stir', 'fold'], Time: None, Temp: None, Description: 'Beat sugar and butter with an electric mixer in a large bowl until creamy. Beat in vanilla extract and salt. Add heat-treated flour; mix until a crumbly dough forms. Stir in milk until dough is just combined; fold in milk chocolate chips and mini chocolate chips.')\n",
      "Step 3: Step(Ingredients: ['all-purpose flour'], Tools: ['a potential risk', 'a microwave', 'a baking sheet', 'an oven'], Methods: ['follow', 'treat', 'spread', 'toast'], Time: 5 to 6 minutes, Temp: 350 degrees, Description: 'There is a potential risk of foodborne illness from the consumption of raw flour. Follow Step 1 to heat-treat your flour so it is safe to use. If you do not have a microwave, spread flour out on a baking sheet and toast in an oven at 350 degrees F for 5 to 6 minutes.')\n"
     ]
    }
   ],
   "source": [
    "ingredient_objects = {}\n",
    "for child in ingredients.find_all(\"li\"):\n",
    "    text = \" \".join(child.text.replace(\"\\n\", \"\").split()[2:])\n",
    "    ingredient_objects[text] = text\n",
    "\n",
    "steps = soup.find(\"div\", {\"id\":\"recipe__steps-content_1-0\"})\n",
    "steps_collection = Steps()\n",
    "\n",
    "for child in steps.find_all(\"p\"):\n",
    "    step_text = child.text.replace(\"\\n\", \"\").strip()\n",
    "    \n",
    "    #find the time mentioned for in the step\n",
    "    time_match = re.search(r'for (.*? (minutes?|seconds?|hours?)(\\s+and\\s+\\d+\\s*(minutes?|seconds?|hours?))?(\\b|\\s))', step_text)\n",
    "    if time_match:\n",
    "        time = time_match.group(1)\n",
    "    else:\n",
    "         time = None\n",
    "    \n",
    "    #find the temperature for that step\n",
    "    temp_match = re.search(r'(\\d+ degrees)', step_text)\n",
    "    if temp_match:\n",
    "        temp = temp_match.group(1) \n",
    "    else:\n",
    "        temp = None\n",
    "    \n",
    "    doc = nlp(step_text)\n",
    "    tools = []\n",
    "    methods = []\n",
    "\n",
    "    for sent in doc.sents:\n",
    "        for token in sent:\n",
    "            #check if token is a verb\n",
    "            if token.pos_ == 'VERB':\n",
    "                #check if it's the first token in a sentence \n",
    "                if token.i == sent.start:\n",
    "                    methods.append(token.lemma_)\n",
    "            \n",
    "                #check if itcomes after punctuation or 'and'\n",
    "                else:\n",
    "                    prev_token = token.nbor(-1)\n",
    "                    if prev_token.is_punct or (prev_token.text.lower() == 'and'):\n",
    "                        methods.append(token.lemma_)\n",
    "\n",
    "    #extract compound nouns for full tool names\n",
    "    for chunk in doc.noun_chunks:\n",
    "        tokens = chunk.text.split()\n",
    "        if len(tokens) > 1 and tokens[0].lower() in ['a', 'an']:\n",
    "            #check if the last word is a noun\n",
    "            if nlp(chunk.text)[-1].pos_ == 'NOUN':\n",
    "                tools.append(chunk.text)\n",
    "        elif chunk.root.dep_ in ['dobj', 'pobj']:  #direct object or object of preposition\n",
    "            #check if the current chunk is a compound noun\n",
    "            if any(child.dep_ == 'compound' for child in chunk.root.children):\n",
    "                tools.append(chunk.text)\n",
    "            elif chunk.root.pos_ == 'NOUN':\n",
    "                tools.append(chunk.text)\n",
    "    #identify ingredients present in this step\n",
    "    step_ingredients = []\n",
    "    for ingred in ingredient_objects:\n",
    "        words = ingred.split()\n",
    "        for word in words:\n",
    "            if word in step_text:\n",
    "                step_ingredients.append(ingred)\n",
    "                break\n",
    "\n",
    "    #remove tools are ingredients, do not end in a noun and do not start with \"a\" or \"an\":\n",
    "    tools = [tool for tool in tools if all(ingr not in tool for ingr in ingredient_objects)]\n",
    "    tools = [tool for tool in tools if nlp(tool)[-1].pos_ == 'NOUN' and tool.split()[0] in [\"a\", \"an\"]]\n",
    "    \n",
    "    #create Step object\n",
    "    step_obj = Step(step_ingredients, tools=tools, methods=methods, description=step_text, time=time, temp=temp)\n",
    "\n",
    "    #add Step object to Steps collection\n",
    "    steps_collection.add_step(step_obj)\n",
    "\n",
    "print(steps_collection)"
   ]
  }
 ],
 "metadata": {
  "kernelspec": {
   "display_name": "project2",
   "language": "python",
   "name": "python3"
  },
  "language_info": {
   "codemirror_mode": {
    "name": "ipython",
    "version": 3
   },
   "file_extension": ".py",
   "mimetype": "text/x-python",
   "name": "python",
   "nbconvert_exporter": "python",
   "pygments_lexer": "ipython3",
   "version": "3.12.0"
  }
 },
 "nbformat": 4,
 "nbformat_minor": 2
}
