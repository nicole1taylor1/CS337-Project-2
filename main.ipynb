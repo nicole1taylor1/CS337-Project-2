{
 "cells": [
  {
   "cell_type": "code",
   "execution_count": 1,
   "metadata": {},
   "outputs": [],
   "source": [
    "from parser_1 import read_recipe_from_url\n",
    "import re\n",
    "import sys\n",
    "import os\n",
    "\n",
    "folder_path = os.path.join(os.getcwd(), 'ourtypes')\n",
    "sys.path.append(folder_path)\n",
    "\n",
    "from step import Step, Steps\n",
    "from ingredient import Ingredient"
   ]
  },
  {
   "cell_type": "code",
   "execution_count": 2,
   "metadata": {},
   "outputs": [],
   "source": [
    "soup = read_recipe_from_url(\"https://www.allrecipes.com/recipe/255365/edible-cookie-dough/\")"
   ]
  },
  {
   "cell_type": "code",
   "execution_count": 3,
   "metadata": {},
   "outputs": [
    {
     "name": "stdout",
     "output_type": "stream",
     "text": [
      "1 cup all-purpose flour\n",
      "¾ cup packed brown sugar\n",
      "½ cup butter\n",
      "1 teaspoon vanilla extract\n",
      "½ teaspoon salt\n",
      "2 tablespoons milk\n",
      "½ cup milk chocolate chips\n",
      "½ cup mini chocolate chips\n"
     ]
    }
   ],
   "source": [
    "ingredients = soup.find(\"div\", {\"id\":\"mntl-structured-ingredients_1-0\"})\n",
    "for child in ingredients.find_all(\"li\"):\n",
    "    text = child.text\n",
    "    text = text.replace(\"\\n\", \"\").strip()\n",
    "    print(text)\n",
    "    "
   ]
  },
  {
   "cell_type": "code",
   "execution_count": 5,
   "metadata": {},
   "outputs": [
    {
     "name": "stdout",
     "output_type": "stream",
     "text": [
      "Step 1: Step(Ingredients: ['flour'], Tools: [], Methods: [], Time: 1 minute, Temp: [], Description: 'To heat-treat your flour so it is safe to use: Place flour in a microwave-safe dish and cook for 1 minute and 15 seconds, stirring it every 15 seconds. Set aside.')\n",
      "Step 2: Step(Ingredients: ['flour', 'sugar', 'butter', 'extract', 'salt', 'milk', 'chips'], Tools: [], Methods: [], Time: None, Temp: [], Description: 'Beat sugar and butter with an electric mixer in a large bowl until creamy. Beat in vanilla extract and salt. Add heat-treated flour; mix until a crumbly dough forms. Stir in milk until dough is just combined; fold in milk chocolate chips and mini chocolate chips.')\n",
      "Step 3: Step(Ingredients: ['flour'], Tools: [], Methods: [], Time: 5 to 6 minutes, Temp: ['350 F'], Description: 'There is a potential risk of foodborne illness from the consumption of raw flour. Follow Step 1 to heat-treat your flour so it is safe to use. If you do not have a microwave, spread flour out on a baking sheet and toast in an oven at 350 degrees F for 5 to 6 minutes.')\n"
     ]
    }
   ],
   "source": [
    "ingredient_objects = {}\n",
    "for child in ingredients.find_all(\"li\"):\n",
    "    text = child.text.replace(\"\\n\", \"\").split()[-1]\n",
    "    ingredient_objects[text] = text\n",
    "\n",
    "steps = soup.find(\"div\", {\"id\":\"recipe__steps-content_1-0\"})\n",
    "steps_collection = Steps()\n",
    "time_pattern = r'for (.*? (minutes?|seconds?|hours?)\\b)'\n",
    "\n",
    "for child in steps.find_all(\"p\"):\n",
    "    step_text = child.text.replace(\"\\n\", \"\").strip()\n",
    "    \n",
    "    #find the time mentioned for in the step\n",
    "    time_match = re.search(time_pattern, step_text)\n",
    "    if time_match:\n",
    "        time = time_match.group(1)\n",
    "    else:\n",
    "         time = None\n",
    "    \n",
    "    #find the temperature for that step\n",
    "    temp = [\" \".join([step_text.split()[i - 1], step_text.split()[i + 1]]) for i, word in enumerate(step_text.split()) if word == 'degrees']\n",
    "    #identify ingredients present in this step\n",
    "    step_ingredients = [ingredient_objects[ingr] for ingr in ingredient_objects if ingr in step_text]\n",
    "\n",
    "    #create Step object\n",
    "    step_obj = Step(step_ingredients, tools=[], methods=[], description=step_text, time=time, temp=temp)\n",
    "\n",
    "    #add Step object to Steps collection\n",
    "    steps_collection.add_step(step_obj)\n",
    "\n",
    "print(steps_collection)"
   ]
  }
 ],
 "metadata": {
  "kernelspec": {
   "display_name": "project2",
   "language": "python",
   "name": "python3"
  },
  "language_info": {
   "codemirror_mode": {
    "name": "ipython",
    "version": 3
   },
   "file_extension": ".py",
   "mimetype": "text/x-python",
   "name": "python",
   "nbconvert_exporter": "python",
   "pygments_lexer": "ipython3",
   "version": "3.12.0"
  }
 },
 "nbformat": 4,
 "nbformat_minor": 2
}
