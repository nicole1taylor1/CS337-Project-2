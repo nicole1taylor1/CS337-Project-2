{
 "cells": [
  {
   "cell_type": "code",
   "execution_count": 1,
   "metadata": {},
   "outputs": [],
   "source": [
    "from bs4 import BeautifulSoup\n",
    "import requests\n",
    "import unicodedata\n",
    "from ourtypes.ingredient import Ingredient\n",
    "import foodlists"
   ]
  },
  {
   "cell_type": "code",
   "execution_count": 2,
   "metadata": {},
   "outputs": [],
   "source": [
    "def read_recipe_from_url(url):\n",
    "    \"\"\"Will read a recipe from url using requests\n",
    "    returns bs4 soup object\n",
    "    \"\"\"\n",
    "\n",
    "    r = requests.get(url)\n",
    "    soup = BeautifulSoup(r.text, \"html.parser\")\n",
    "    return soup"
   ]
  },
  {
   "cell_type": "code",
   "execution_count": 3,
   "metadata": {},
   "outputs": [],
   "source": [
    "def PluralUnit(word):\n",
    "    if word[-1] == \"s\":\n",
    "        return True, word[:-1], \"s\"\n",
    "    return False, word, \"\""
   ]
  },
  {
   "cell_type": "code",
   "execution_count": 4,
   "metadata": {},
   "outputs": [],
   "source": [
    "def check_preparation_and_description(text):\n",
    "    descriptors = []\n",
    "    preps = []\n",
    "    for word in text:\n",
    "        if word in foodlists.preparations:\n",
    "            preps.append(word)\n",
    "        elif word in foodlists.descriptions:\n",
    "            descriptors.append(word)\n",
    "    return descriptors, preps"
   ]
  },
  {
   "cell_type": "code",
   "execution_count": 5,
   "metadata": {},
   "outputs": [],
   "source": [
    "def parse_ingredient_name(text):\n",
    "    tags = []\n",
    "    unit_qualifier, name = \"\", text\n",
    "    \n",
    "    if ',' in text:\n",
    "        unit_qualifier = text[text.find(','):]\n",
    "        name = text[:text.find(',')]\n",
    "\n",
    "    #check ingredients for helpful tagging\n",
    "    for k in foodlists.allIngredients.keys():\n",
    "        vals = foodlists.allIngredients[k]\n",
    "        for val in vals:\n",
    "            if val in text:\n",
    "                tags.append(k)\n",
    "                break\n",
    "\n",
    "    if unit_qualifier != \"\" and unit_qualifier in foodlists.unit_qualifiers:\n",
    "        return unit_qualifier, tags, name\n",
    "    else:\n",
    "        return None, tags, name"
   ]
  },
  {
   "cell_type": "code",
   "execution_count": 6,
   "metadata": {},
   "outputs": [],
   "source": [
    "def get_ingredients_from_soup(soup):\n",
    "    ingredientsList = []\n",
    "    ingredients = soup.find(\"div\", {\"id\":\"mntl-structured-ingredients_1-0\"})\n",
    "    for child in ingredients.find_all(\"li\"):\n",
    "        text = child.text.replace(\"\\n\", \"\").strip()\n",
    "        text = text.split(\" \")\n",
    "        \n",
    "        #get QUANTITY\n",
    "        quantity_unicode = text[0]\n",
    "        quantity = unicodedata.numeric(text[0]) #quantity = chars before first space\n",
    "\n",
    "        #get UNIT\n",
    "        unit = \"\"\n",
    "        posn = 1\n",
    "        potential_unit = text[1].replace(\".\",\"\")\n",
    "        #lowercase unless one char\n",
    "        if len(potential_unit) > 1:\n",
    "            potential_unit = potential_unit.lower()\n",
    "        #handle occurence of fluid/fl before unit name\n",
    "        if potential_unit == \"fluid\" or potential_unit == \"fl\":\n",
    "            unit += \"fluid\"\n",
    "            potential_unit = text[2].lower().replace(\".\",\"\")\n",
    "            posn += 1\n",
    "        #check for units\n",
    "        for key in foodlists.units.keys():\n",
    "            plural, potential_unit, end = PluralUnit(potential_unit)\n",
    "            if potential_unit == key:\n",
    "                unit += potential_unit + end\n",
    "            elif potential_unit in foodlists.units[key]:\n",
    "                unit += key + end\n",
    "        if unit == \"\":\n",
    "            unit=None\n",
    "\n",
    "        #get INGREDIENT NAME\n",
    "        #check for plurals\n",
    "        #just for now\n",
    "        posn += 1 \n",
    "        name = text[posn:]\n",
    "        map(lambda x: x.lower(), name)\n",
    "\n",
    "        #get DESCRIPTION\n",
    "        descriptors, preparation = check_preparation_and_description(name)\n",
    "        for ele in descriptors:\n",
    "            name.remove(ele)           \n",
    "\n",
    "        #get PREPARATION\n",
    "        for ele in preparation:\n",
    "            name.remove(ele)\n",
    "\n",
    "        name = \" \".join(name)\n",
    "        unit_qualifier, tags, name = parse_ingredient_name(name)\n",
    "\n",
    "        ingredient = Ingredient(ingredient_name=str(name), quantity=float(quantity), quantity_unicode=quantity_unicode, \n",
    "                                unit=unit, descriptor=descriptors, preparation=preparation,\n",
    "                                unit_qualifier=unit_qualifier, tags=tags)\n",
    "        ingredientsList.append(ingredient)\n",
    "    return ingredientsList\n"
   ]
  },
  {
   "cell_type": "code",
   "execution_count": 8,
   "metadata": {},
   "outputs": [
    {
     "name": "stdout",
     "output_type": "stream",
     "text": [
      "1 cup of all-purpose flour\n",
      "\n",
      "['bakingIngredients']\n",
      "\n",
      "\n",
      "\n",
      "¾ cups of packed brown sugar\n",
      "\n",
      "['sugars']\n",
      "\n",
      "\n",
      "\n",
      "½ cups of butter\n",
      "\n",
      "['cookingFats']\n",
      "\n",
      "\n",
      "\n",
      "1 teaspoon of vanilla extract\n",
      "\n",
      "['spices', 'flavorings']\n",
      "\n",
      "\n",
      "\n",
      "½ teaspoons of salt\n",
      "\n",
      "['spices']\n",
      "\n",
      "\n",
      "\n",
      "2 tablespoons of milk\n",
      "\n",
      "['dairyIngredients']\n",
      "\n",
      "\n",
      "\n",
      "½ cups of milk chocolate chips\n",
      "\n",
      "['dairyIngredients', 'spices', 'extras']\n",
      "\n",
      "\n",
      "\n",
      "½ cups of mini chocolate chips\n",
      "\n",
      "['spices', 'extras']\n",
      "\n",
      "\n",
      "\n"
     ]
    }
   ],
   "source": [
    "#run program\n",
    "soup = read_recipe_from_url(\"https://www.allrecipes.com/recipe/255365/edible-cookie-dough/\")\n",
    "ingredients = get_ingredients_from_soup(soup)\n",
    "for i in ingredients:\n",
    "    print(i)\n",
    "    print(i.tags)\n",
    "    print(\"\\n\\n\")"
   ]
  },
  {
   "cell_type": "markdown",
   "metadata": {},
   "source": [
    "Testing out question handling"
   ]
  },
  {
   "cell_type": "code",
   "execution_count": null,
   "metadata": {},
   "outputs": [],
   "source": [
    "input = \"Please show me a list of ingredients\""
   ]
  },
  {
   "cell_type": "code",
   "execution_count": 9,
   "metadata": {},
   "outputs": [
    {
     "ename": "error",
     "evalue": "unterminated character set at position 3 (line 2, column 1)",
     "output_type": "error",
     "traceback": [
      "\u001b[0;31m---------------------------------------------------------------------------\u001b[0m",
      "\u001b[0;31merror\u001b[0m                                     Traceback (most recent call last)",
      "\u001b[1;32m/Users/code/Documents/GitHub/CS337-Project-2/main.ipynb Cell 10\u001b[0m line \u001b[0;36m2\n\u001b[1;32m      <a href='vscode-notebook-cell:/Users/code/Documents/GitHub/CS337-Project-2/main.ipynb#X12sZmlsZQ%3D%3D?line=0'>1</a>\u001b[0m \u001b[39mimport\u001b[39;00m \u001b[39mre\u001b[39;00m\n\u001b[0;32m----> <a href='vscode-notebook-cell:/Users/code/Documents/GitHub/CS337-Project-2/main.ipynb#X12sZmlsZQ%3D%3D?line=1'>2</a>\u001b[0m match \u001b[39m=\u001b[39m re\u001b[39m.\u001b[39;49mmatch(\u001b[39m\"\u001b[39;49m\u001b[39m  \u001b[39;49m\u001b[39m\\n\u001b[39;49;00m\u001b[39m[^\u001b[39;49m\u001b[39m\\\u001b[39;49m\u001b[39m]\u001b[39;49m\u001b[39m\"\u001b[39;49m, \u001b[39m\"\u001b[39;49m\u001b[39m  \u001b[39;49m\u001b[39m\\n\u001b[39;49;00m\u001b[39mhello\u001b[39;49m\u001b[39m\"\u001b[39;49m)\n\u001b[1;32m      <a href='vscode-notebook-cell:/Users/code/Documents/GitHub/CS337-Project-2/main.ipynb#X12sZmlsZQ%3D%3D?line=2'>3</a>\u001b[0m \u001b[39mif\u001b[39;00m match:\n\u001b[1;32m      <a href='vscode-notebook-cell:/Users/code/Documents/GitHub/CS337-Project-2/main.ipynb#X12sZmlsZQ%3D%3D?line=3'>4</a>\u001b[0m     \u001b[39mprint\u001b[39m(match)\n",
      "File \u001b[0;32m~/anaconda3/envs/project2/lib/python3.11/re/__init__.py:166\u001b[0m, in \u001b[0;36mmatch\u001b[0;34m(pattern, string, flags)\u001b[0m\n\u001b[1;32m    163\u001b[0m \u001b[39mdef\u001b[39;00m \u001b[39mmatch\u001b[39m(pattern, string, flags\u001b[39m=\u001b[39m\u001b[39m0\u001b[39m):\n\u001b[1;32m    164\u001b[0m \u001b[39m    \u001b[39m\u001b[39m\"\"\"Try to apply the pattern at the start of the string, returning\u001b[39;00m\n\u001b[1;32m    165\u001b[0m \u001b[39m    a Match object, or None if no match was found.\"\"\"\u001b[39;00m\n\u001b[0;32m--> 166\u001b[0m     \u001b[39mreturn\u001b[39;00m _compile(pattern, flags)\u001b[39m.\u001b[39mmatch(string)\n",
      "File \u001b[0;32m~/anaconda3/envs/project2/lib/python3.11/re/__init__.py:294\u001b[0m, in \u001b[0;36m_compile\u001b[0;34m(pattern, flags)\u001b[0m\n\u001b[1;32m    288\u001b[0m     \u001b[39mimport\u001b[39;00m \u001b[39mwarnings\u001b[39;00m\n\u001b[1;32m    289\u001b[0m     warnings\u001b[39m.\u001b[39mwarn(\u001b[39m\"\u001b[39m\u001b[39mThe re.TEMPLATE/re.T flag is deprecated \u001b[39m\u001b[39m\"\u001b[39m\n\u001b[1;32m    290\u001b[0m               \u001b[39m\"\u001b[39m\u001b[39mas it is an undocumented flag \u001b[39m\u001b[39m\"\u001b[39m\n\u001b[1;32m    291\u001b[0m               \u001b[39m\"\u001b[39m\u001b[39mwithout an obvious purpose. \u001b[39m\u001b[39m\"\u001b[39m\n\u001b[1;32m    292\u001b[0m               \u001b[39m\"\u001b[39m\u001b[39mDon\u001b[39m\u001b[39m'\u001b[39m\u001b[39mt use it.\u001b[39m\u001b[39m\"\u001b[39m,\n\u001b[1;32m    293\u001b[0m               \u001b[39mDeprecationWarning\u001b[39;00m)\n\u001b[0;32m--> 294\u001b[0m p \u001b[39m=\u001b[39m _compiler\u001b[39m.\u001b[39;49mcompile(pattern, flags)\n\u001b[1;32m    295\u001b[0m \u001b[39mif\u001b[39;00m \u001b[39mnot\u001b[39;00m (flags \u001b[39m&\u001b[39m DEBUG):\n\u001b[1;32m    296\u001b[0m     \u001b[39mif\u001b[39;00m \u001b[39mlen\u001b[39m(_cache) \u001b[39m>\u001b[39m\u001b[39m=\u001b[39m _MAXCACHE:\n\u001b[1;32m    297\u001b[0m         \u001b[39m# Drop the oldest item\u001b[39;00m\n",
      "File \u001b[0;32m~/anaconda3/envs/project2/lib/python3.11/re/_compiler.py:743\u001b[0m, in \u001b[0;36mcompile\u001b[0;34m(p, flags)\u001b[0m\n\u001b[1;32m    741\u001b[0m \u001b[39mif\u001b[39;00m isstring(p):\n\u001b[1;32m    742\u001b[0m     pattern \u001b[39m=\u001b[39m p\n\u001b[0;32m--> 743\u001b[0m     p \u001b[39m=\u001b[39m _parser\u001b[39m.\u001b[39;49mparse(p, flags)\n\u001b[1;32m    744\u001b[0m \u001b[39melse\u001b[39;00m:\n\u001b[1;32m    745\u001b[0m     pattern \u001b[39m=\u001b[39m \u001b[39mNone\u001b[39;00m\n",
      "File \u001b[0;32m~/anaconda3/envs/project2/lib/python3.11/re/_parser.py:982\u001b[0m, in \u001b[0;36mparse\u001b[0;34m(str, flags, state)\u001b[0m\n\u001b[1;32m    979\u001b[0m state\u001b[39m.\u001b[39mflags \u001b[39m=\u001b[39m flags\n\u001b[1;32m    980\u001b[0m state\u001b[39m.\u001b[39mstr \u001b[39m=\u001b[39m \u001b[39mstr\u001b[39m\n\u001b[0;32m--> 982\u001b[0m p \u001b[39m=\u001b[39m _parse_sub(source, state, flags \u001b[39m&\u001b[39;49m SRE_FLAG_VERBOSE, \u001b[39m0\u001b[39;49m)\n\u001b[1;32m    983\u001b[0m p\u001b[39m.\u001b[39mstate\u001b[39m.\u001b[39mflags \u001b[39m=\u001b[39m fix_flags(\u001b[39mstr\u001b[39m, p\u001b[39m.\u001b[39mstate\u001b[39m.\u001b[39mflags)\n\u001b[1;32m    985\u001b[0m \u001b[39mif\u001b[39;00m source\u001b[39m.\u001b[39mnext \u001b[39mis\u001b[39;00m \u001b[39mnot\u001b[39;00m \u001b[39mNone\u001b[39;00m:\n",
      "File \u001b[0;32m~/anaconda3/envs/project2/lib/python3.11/re/_parser.py:457\u001b[0m, in \u001b[0;36m_parse_sub\u001b[0;34m(source, state, verbose, nested)\u001b[0m\n\u001b[1;32m    455\u001b[0m start \u001b[39m=\u001b[39m source\u001b[39m.\u001b[39mtell()\n\u001b[1;32m    456\u001b[0m \u001b[39mwhile\u001b[39;00m \u001b[39mTrue\u001b[39;00m:\n\u001b[0;32m--> 457\u001b[0m     itemsappend(_parse(source, state, verbose, nested \u001b[39m+\u001b[39;49m \u001b[39m1\u001b[39;49m,\n\u001b[1;32m    458\u001b[0m                        \u001b[39mnot\u001b[39;49;00m nested \u001b[39mand\u001b[39;49;00m \u001b[39mnot\u001b[39;49;00m items))\n\u001b[1;32m    459\u001b[0m     \u001b[39mif\u001b[39;00m \u001b[39mnot\u001b[39;00m sourcematch(\u001b[39m\"\u001b[39m\u001b[39m|\u001b[39m\u001b[39m\"\u001b[39m):\n\u001b[1;32m    460\u001b[0m         \u001b[39mbreak\u001b[39;00m\n",
      "File \u001b[0;32m~/anaconda3/envs/project2/lib/python3.11/re/_parser.py:565\u001b[0m, in \u001b[0;36m_parse\u001b[0;34m(source, state, verbose, nested, first)\u001b[0m\n\u001b[1;32m    563\u001b[0m this \u001b[39m=\u001b[39m sourceget()\n\u001b[1;32m    564\u001b[0m \u001b[39mif\u001b[39;00m this \u001b[39mis\u001b[39;00m \u001b[39mNone\u001b[39;00m:\n\u001b[0;32m--> 565\u001b[0m     \u001b[39mraise\u001b[39;00m source\u001b[39m.\u001b[39merror(\u001b[39m\"\u001b[39m\u001b[39munterminated character set\u001b[39m\u001b[39m\"\u001b[39m,\n\u001b[1;32m    566\u001b[0m                        source\u001b[39m.\u001b[39mtell() \u001b[39m-\u001b[39m here)\n\u001b[1;32m    567\u001b[0m \u001b[39mif\u001b[39;00m this \u001b[39m==\u001b[39m \u001b[39m\"\u001b[39m\u001b[39m]\u001b[39m\u001b[39m\"\u001b[39m \u001b[39mand\u001b[39;00m \u001b[39mset\u001b[39m:\n\u001b[1;32m    568\u001b[0m     \u001b[39mbreak\u001b[39;00m\n",
      "\u001b[0;31merror\u001b[0m: unterminated character set at position 3 (line 2, column 1)"
     ]
    }
   ],
   "source": [
    "import re\n",
    "match = re.match(\"  \\n^\\\", \"  \\nhello\")\n",
    "if match:\n",
    "    print(match)"
   ]
  }
 ],
 "metadata": {
  "kernelspec": {
   "display_name": "project2",
   "language": "python",
   "name": "python3"
  },
  "language_info": {
   "codemirror_mode": {
    "name": "ipython",
    "version": 3
   },
   "file_extension": ".py",
   "mimetype": "text/x-python",
   "name": "python",
   "nbconvert_exporter": "python",
   "pygments_lexer": "ipython3",
   "version": "3.11.5"
  }
 },
 "nbformat": 4,
 "nbformat_minor": 2
}
